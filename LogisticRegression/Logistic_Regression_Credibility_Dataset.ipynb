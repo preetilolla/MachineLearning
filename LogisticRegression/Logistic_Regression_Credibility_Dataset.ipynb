{
  "nbformat": 4,
  "nbformat_minor": 0,
  "metadata": {
    "kernelspec": {
      "display_name": "Python 3",
      "language": "python",
      "name": "python3"
    },
    "language_info": {
      "codemirror_mode": {
        "name": "ipython",
        "version": 3
      },
      "file_extension": ".py",
      "mimetype": "text/x-python",
      "name": "python",
      "nbconvert_exporter": "python",
      "pygments_lexer": "ipython3",
      "version": "3.7.3"
    },
    "colab": {
      "name": "Logistic_Regression_Credibility Dataset.ipynb",
      "provenance": [],
      "include_colab_link": true
    }
  },
  "cells": [
    {
      "cell_type": "markdown",
      "metadata": {
        "id": "view-in-github",
        "colab_type": "text"
      },
      "source": [
        "<a href=\"https://colab.research.google.com/github/preetilolla/MachineLearning/blob/master/Logistic_Regression_Credibility_Dataset.ipynb\" target=\"_parent\"><img src=\"https://colab.research.google.com/assets/colab-badge.svg\" alt=\"Open In Colab\"/></a>"
      ]
    },
    {
      "cell_type": "markdown",
      "metadata": {
        "id": "VtBS2f9RXteu",
        "colab_type": "text"
      },
      "source": [
        "# Logistic regression"
      ]
    },
    {
      "cell_type": "markdown",
      "metadata": {
        "id": "2hJITWeVXtev",
        "colab_type": "text"
      },
      "source": [
        "# Dataset:\n",
        "German Credit"
      ]
    },
    {
      "cell_type": "markdown",
      "metadata": {
        "id": "B30xFrBFXtex",
        "colab_type": "text"
      },
      "source": [
        "# Objective\n",
        "Estimate default probabilities using logistic regression"
      ]
    },
    {
      "cell_type": "markdown",
      "metadata": {
        "id": "Rbj1nkp7Xtey",
        "colab_type": "text"
      },
      "source": [
        "# 1. Load Libraries and data"
      ]
    },
    {
      "cell_type": "code",
      "metadata": {
        "id": "FG5J7shDaATj",
        "colab_type": "code",
        "colab": {}
      },
      "source": [
        "import numpy as np\n",
        "import pandas as pd"
      ],
      "execution_count": 0,
      "outputs": []
    },
    {
      "cell_type": "code",
      "metadata": {
        "id": "mBqk3mG-Zuco",
        "colab_type": "code",
        "colab": {}
      },
      "source": [
        "url = 'https://raw.githubusercontent.com/preetilolla/MachineLearning/master/LogisticRegression/German_Credit_csv.csv'\n"
      ],
      "execution_count": 0,
      "outputs": []
    },
    {
      "cell_type": "code",
      "metadata": {
        "id": "vg85Hfr8Xtez",
        "colab_type": "code",
        "colab": {
          "base_uri": "https://localhost:8080/",
          "height": 202
        },
        "outputId": "de323c1c-ce9f-4f1d-8baf-1ab4d4ed54fd"
      },
      "source": [
        "df = pd.read_csv(url)\n",
        "df.head()"
      ],
      "execution_count": 5,
      "outputs": [
        {
          "output_type": "execute_result",
          "data": {
            "text/html": [
              "<div>\n",
              "<style scoped>\n",
              "    .dataframe tbody tr th:only-of-type {\n",
              "        vertical-align: middle;\n",
              "    }\n",
              "\n",
              "    .dataframe tbody tr th {\n",
              "        vertical-align: top;\n",
              "    }\n",
              "\n",
              "    .dataframe thead th {\n",
              "        text-align: right;\n",
              "    }\n",
              "</style>\n",
              "<table border=\"1\" class=\"dataframe\">\n",
              "  <thead>\n",
              "    <tr style=\"text-align: right;\">\n",
              "      <th></th>\n",
              "      <th>Creditability</th>\n",
              "      <th>CreditAmount</th>\n",
              "      <th>DurationOfCreditInMonths</th>\n",
              "    </tr>\n",
              "  </thead>\n",
              "  <tbody>\n",
              "    <tr>\n",
              "      <th>0</th>\n",
              "      <td>1</td>\n",
              "      <td>1049</td>\n",
              "      <td>18</td>\n",
              "    </tr>\n",
              "    <tr>\n",
              "      <th>1</th>\n",
              "      <td>1</td>\n",
              "      <td>2799</td>\n",
              "      <td>9</td>\n",
              "    </tr>\n",
              "    <tr>\n",
              "      <th>2</th>\n",
              "      <td>1</td>\n",
              "      <td>841</td>\n",
              "      <td>12</td>\n",
              "    </tr>\n",
              "    <tr>\n",
              "      <th>3</th>\n",
              "      <td>1</td>\n",
              "      <td>2122</td>\n",
              "      <td>12</td>\n",
              "    </tr>\n",
              "    <tr>\n",
              "      <th>4</th>\n",
              "      <td>1</td>\n",
              "      <td>2171</td>\n",
              "      <td>12</td>\n",
              "    </tr>\n",
              "  </tbody>\n",
              "</table>\n",
              "</div>"
            ],
            "text/plain": [
              "   Creditability  CreditAmount  DurationOfCreditInMonths\n",
              "0              1          1049                        18\n",
              "1              1          2799                         9\n",
              "2              1           841                        12\n",
              "3              1          2122                        12\n",
              "4              1          2171                        12"
            ]
          },
          "metadata": {
            "tags": []
          },
          "execution_count": 5
        }
      ]
    },
    {
      "cell_type": "markdown",
      "metadata": {
        "id": "-hfV-hqTXte5",
        "colab_type": "text"
      },
      "source": [
        "# 2. Check how many records do we have\n"
      ]
    },
    {
      "cell_type": "code",
      "metadata": {
        "id": "HIJ7zsm5Xte6",
        "colab_type": "code",
        "colab": {
          "base_uri": "https://localhost:8080/",
          "height": 52
        },
        "outputId": "09e1ed93-6e32-4f1a-a7b4-93302f233dbe"
      },
      "source": [
        "df.shape\n",
        "X = df.shape[0]\n",
        "Y = df.shape[1]\n",
        "print(X)\n",
        "print(Y)"
      ],
      "execution_count": 7,
      "outputs": [
        {
          "output_type": "stream",
          "text": [
            "1000\n",
            "3\n"
          ],
          "name": "stdout"
        }
      ]
    },
    {
      "cell_type": "markdown",
      "metadata": {
        "id": "4Exrf2HHXte_",
        "colab_type": "text"
      },
      "source": [
        "# 3. Plot Histogram for column 'CreditAmount'"
      ]
    },
    {
      "cell_type": "code",
      "metadata": {
        "id": "6yS7vJJBXtfA",
        "colab_type": "code",
        "colab": {
          "base_uri": "https://localhost:8080/",
          "height": 283
        },
        "outputId": "9742ecce-9cd9-4b08-9f87-04a3604ffd7f"
      },
      "source": [
        "df.plot.hist(by='CreditAmount')"
      ],
      "execution_count": 8,
      "outputs": [
        {
          "output_type": "execute_result",
          "data": {
            "text/plain": [
              "<matplotlib.axes._subplots.AxesSubplot at 0x7f8a27a85c50>"
            ]
          },
          "metadata": {
            "tags": []
          },
          "execution_count": 8
        },
        {
          "output_type": "display_data",
          "data": {
            "image/png": "[encoded data removed]",
            "text/plain": [
              "<Figure size 432x288 with 1 Axes>"
            ]
          },
          "metadata": {
            "tags": [],
            "needs_background": "light"
          }
        }
      ]
    },
    {
      "cell_type": "code",
      "metadata": {
        "id": "DnIPqdSVbipj",
        "colab_type": "code",
        "colab": {
          "base_uri": "https://localhost:8080/",
          "height": 525
        },
        "outputId": "a855bfa6-cea6-446d-9a84-372dd48a722b"
      },
      "source": [
        "import matplotlib.pyplot as plt\n",
        "plt.hist(df['CreditAmount'], 50)"
      ],
      "execution_count": 11,
      "outputs": [
        {
          "output_type": "execute_result",
          "data": {
            "text/plain": [
              "(array([ 26.,  87., 124., 121.,  87.,  84.,  63.,  54.,  43.,  49.,  31.,\n",
              "         24.,  19.,  16.,   7.,  16.,  22.,  14.,  11.,  17.,  13.,   7.,\n",
              "          7.,   4.,   7.,   5.,   2.,   5.,   3.,   4.,   1.,   4.,   4.,\n",
              "          2.,   3.,   1.,   0.,   2.,   3.,   2.,   1.,   0.,   3.,   1.,\n",
              "          0.,   0.,   0.,   0.,   0.,   1.]),\n",
              " array([  250.  ,   613.48,   976.96,  1340.44,  1703.92,  2067.4 ,\n",
              "         2430.88,  2794.36,  3157.84,  3521.32,  3884.8 ,  4248.28,\n",
              "         4611.76,  4975.24,  5338.72,  5702.2 ,  6065.68,  6429.16,\n",
              "         6792.64,  7156.12,  7519.6 ,  7883.08,  8246.56,  8610.04,\n",
              "         8973.52,  9337.  ,  9700.48, 10063.96, 10427.44, 10790.92,\n",
              "        11154.4 , 11517.88, 11881.36, 12244.84, 12608.32, 12971.8 ,\n",
              "        13335.28, 13698.76, 14062.24, 14425.72, 14789.2 , 15152.68,\n",
              "        15516.16, 15879.64, 16243.12, 16606.6 , 16970.08, 17333.56,\n",
              "        17697.04, 18060.52, 18424.  ]),\n",
              " <a list of 50 Patch objects>)"
            ]
          },
          "metadata": {
            "tags": []
          },
          "execution_count": 11
        },
        {
          "output_type": "display_data",
          "data": {
            "image/png": "[encoded data removed]",
            "text/plain": [
              "<Figure size 432x288 with 1 Axes>"
            ]
          },
          "metadata": {
            "tags": [],
            "needs_background": "light"
          }
        }
      ]
    },
    {
      "cell_type": "markdown",
      "metadata": {
        "id": "mc0dDoujXtfE",
        "colab_type": "text"
      },
      "source": [
        "# 3b. Create creditability dataframe"
      ]
    },
    {
      "cell_type": "code",
      "metadata": {
        "id": "GVs6us2NXtfE",
        "colab_type": "code",
        "colab": {
          "base_uri": "https://localhost:8080/",
          "height": 191
        },
        "outputId": "6c271226-5855-48c5-8a6c-9dbce2595004"
      },
      "source": [
        "amountIntervalsPoints = np.array([0, 500, 1000, 1500, 2000, 2500, 5000, 7500, 10000, 15000, 20000]);\n",
        "np.arange(len(amountIntervalsPoints) - 1)\n",
        "amountIntervals = [(amountIntervalsPoints[i] + int(i != 0), amountIntervalsPoints[i + 1]) for i in np.arange(len(amountIntervalsPoints) - 1)];\n",
        "amountIntervals"
      ],
      "execution_count": 17,
      "outputs": [
        {
          "output_type": "execute_result",
          "data": {
            "text/plain": [
              "[(0, 500),\n",
              " (501, 1000),\n",
              " (1001, 1500),\n",
              " (1501, 2000),\n",
              " (2001, 2500),\n",
              " (2501, 5000),\n",
              " (5001, 7500),\n",
              " (7501, 10000),\n",
              " (10001, 15000),\n",
              " (15001, 20000)]"
            ]
          },
          "metadata": {
            "tags": []
          },
          "execution_count": 17
        }
      ]
    },
    {
      "cell_type": "code",
      "metadata": {
        "id": "-dReN4VBfb59",
        "colab_type": "code",
        "colab": {
          "base_uri": "https://localhost:8080/",
          "height": 355
        },
        "outputId": "6902286c-f17f-4284-e23b-8adfd8c0c111"
      },
      "source": [
        "amountIntervalsDF = pd.DataFrame(amountIntervals, columns = ['intervalLeftSide', 'intervalRightSide'])\n",
        "amountIntervalsDF"
      ],
      "execution_count": 18,
      "outputs": [
        {
          "output_type": "execute_result",
          "data": {
            "text/html": [
              "<div>\n",
              "<style scoped>\n",
              "    .dataframe tbody tr th:only-of-type {\n",
              "        vertical-align: middle;\n",
              "    }\n",
              "\n",
              "    .dataframe tbody tr th {\n",
              "        vertical-align: top;\n",
              "    }\n",
              "\n",
              "    .dataframe thead th {\n",
              "        text-align: right;\n",
              "    }\n",
              "</style>\n",
              "<table border=\"1\" class=\"dataframe\">\n",
              "  <thead>\n",
              "    <tr style=\"text-align: right;\">\n",
              "      <th></th>\n",
              "      <th>intervalLeftSide</th>\n",
              "      <th>intervalRightSide</th>\n",
              "    </tr>\n",
              "  </thead>\n",
              "  <tbody>\n",
              "    <tr>\n",
              "      <th>0</th>\n",
              "      <td>0</td>\n",
              "      <td>500</td>\n",
              "    </tr>\n",
              "    <tr>\n",
              "      <th>1</th>\n",
              "      <td>501</td>\n",
              "      <td>1000</td>\n",
              "    </tr>\n",
              "    <tr>\n",
              "      <th>2</th>\n",
              "      <td>1001</td>\n",
              "      <td>1500</td>\n",
              "    </tr>\n",
              "    <tr>\n",
              "      <th>3</th>\n",
              "      <td>1501</td>\n",
              "      <td>2000</td>\n",
              "    </tr>\n",
              "    <tr>\n",
              "      <th>4</th>\n",
              "      <td>2001</td>\n",
              "      <td>2500</td>\n",
              "    </tr>\n",
              "    <tr>\n",
              "      <th>5</th>\n",
              "      <td>2501</td>\n",
              "      <td>5000</td>\n",
              "    </tr>\n",
              "    <tr>\n",
              "      <th>6</th>\n",
              "      <td>5001</td>\n",
              "      <td>7500</td>\n",
              "    </tr>\n",
              "    <tr>\n",
              "      <th>7</th>\n",
              "      <td>7501</td>\n",
              "      <td>10000</td>\n",
              "    </tr>\n",
              "    <tr>\n",
              "      <th>8</th>\n",
              "      <td>10001</td>\n",
              "      <td>15000</td>\n",
              "    </tr>\n",
              "    <tr>\n",
              "      <th>9</th>\n",
              "      <td>15001</td>\n",
              "      <td>20000</td>\n",
              "    </tr>\n",
              "  </tbody>\n",
              "</table>\n",
              "</div>"
            ],
            "text/plain": [
              "   intervalLeftSide  intervalRightSide\n",
              "0                 0                500\n",
              "1               501               1000\n",
              "2              1001               1500\n",
              "3              1501               2000\n",
              "4              2001               2500\n",
              "5              2501               5000\n",
              "6              5001               7500\n",
              "7              7501              10000\n",
              "8             10001              15000\n",
              "9             15001              20000"
            ]
          },
          "metadata": {
            "tags": []
          },
          "execution_count": 18
        }
      ]
    },
    {
      "cell_type": "code",
      "metadata": {
        "id": "EC6Eq7L9gW0X",
        "colab_type": "code",
        "colab": {
          "base_uri": "https://localhost:8080/",
          "height": 202
        },
        "outputId": "28cc093b-cab1-4e39-e714-1a01aca54c30"
      },
      "source": [
        "# Credibility Tables - Preparation\n",
        "Credibility0 = []\n",
        "Credibility1 = []\n",
        "for interval in amountIntervals:\n",
        "  data = df[df.CreditAmount >= interval[0]]\n",
        "  data = data[data.CreditAmount <= interval[1]]\n",
        "  Credibility0.append(sum(data.Creditability == 0))\n",
        "  Credibility1.append(sum(data.Creditability == 1))\n",
        "cdf = pd.DataFrame(np.column_stack([Credibility0, Credibility1]), columns = ['Credibility0', 'Credibility1'])\n",
        "cdf.head()"
      ],
      "execution_count": 24,
      "outputs": [
        {
          "output_type": "execute_result",
          "data": {
            "text/html": [
              "<div>\n",
              "<style scoped>\n",
              "    .dataframe tbody tr th:only-of-type {\n",
              "        vertical-align: middle;\n",
              "    }\n",
              "\n",
              "    .dataframe tbody tr th {\n",
              "        vertical-align: top;\n",
              "    }\n",
              "\n",
              "    .dataframe thead th {\n",
              "        text-align: right;\n",
              "    }\n",
              "</style>\n",
              "<table border=\"1\" class=\"dataframe\">\n",
              "  <thead>\n",
              "    <tr style=\"text-align: right;\">\n",
              "      <th></th>\n",
              "      <th>Credibility0</th>\n",
              "      <th>Credibility1</th>\n",
              "    </tr>\n",
              "  </thead>\n",
              "  <tbody>\n",
              "    <tr>\n",
              "      <th>0</th>\n",
              "      <td>3</td>\n",
              "      <td>15</td>\n",
              "    </tr>\n",
              "    <tr>\n",
              "      <th>1</th>\n",
              "      <td>34</td>\n",
              "      <td>64</td>\n",
              "    </tr>\n",
              "    <tr>\n",
              "      <th>2</th>\n",
              "      <td>51</td>\n",
              "      <td>139</td>\n",
              "    </tr>\n",
              "    <tr>\n",
              "      <th>3</th>\n",
              "      <td>33</td>\n",
              "      <td>93</td>\n",
              "    </tr>\n",
              "    <tr>\n",
              "      <th>4</th>\n",
              "      <td>26</td>\n",
              "      <td>79</td>\n",
              "    </tr>\n",
              "  </tbody>\n",
              "</table>\n",
              "</div>"
            ],
            "text/plain": [
              "   Credibility0  Credibility1\n",
              "0             3            15\n",
              "1            34            64\n",
              "2            51           139\n",
              "3            33            93\n",
              "4            26            79"
            ]
          },
          "metadata": {
            "tags": []
          },
          "execution_count": 24
        }
      ]
    },
    {
      "cell_type": "markdown",
      "metadata": {
        "id": "mdPs0OJ0XtfJ",
        "colab_type": "text"
      },
      "source": [
        "# 4. Concatenate the above 2 dataframes and give the total of Credibiliity0 and Credibiliity1"
      ]
    },
    {
      "cell_type": "code",
      "metadata": {
        "id": "3se7g5A3XtfJ",
        "colab_type": "code",
        "colab": {
          "base_uri": "https://localhost:8080/",
          "height": 355
        },
        "outputId": "5753ed4f-6750-42d9-deef-31a8412c10e9"
      },
      "source": [
        "compareCreditsDF = pd.concat([amountIntervalsDF.reset_index(drop=True), cdf], axis = 1)\n",
        "compareCreditsDF\n",
        "\n",
        "# Adding Totals\n",
        "compareCreditsDF['Total'] = compareCreditsDF.Credibility0 + compareCreditsDF.Credibility1\n",
        "compareCreditsDF"
      ],
      "execution_count": 26,
      "outputs": [
        {
          "output_type": "execute_result",
          "data": {
            "text/html": [
              "<div>\n",
              "<style scoped>\n",
              "    .dataframe tbody tr th:only-of-type {\n",
              "        vertical-align: middle;\n",
              "    }\n",
              "\n",
              "    .dataframe tbody tr th {\n",
              "        vertical-align: top;\n",
              "    }\n",
              "\n",
              "    .dataframe thead th {\n",
              "        text-align: right;\n",
              "    }\n",
              "</style>\n",
              "<table border=\"1\" class=\"dataframe\">\n",
              "  <thead>\n",
              "    <tr style=\"text-align: right;\">\n",
              "      <th></th>\n",
              "      <th>intervalLeftSide</th>\n",
              "      <th>intervalRightSide</th>\n",
              "      <th>Credibility0</th>\n",
              "      <th>Credibility1</th>\n",
              "      <th>Total</th>\n",
              "    </tr>\n",
              "  </thead>\n",
              "  <tbody>\n",
              "    <tr>\n",
              "      <th>0</th>\n",
              "      <td>0</td>\n",
              "      <td>500</td>\n",
              "      <td>3</td>\n",
              "      <td>15</td>\n",
              "      <td>18</td>\n",
              "    </tr>\n",
              "    <tr>\n",
              "      <th>1</th>\n",
              "      <td>501</td>\n",
              "      <td>1000</td>\n",
              "      <td>34</td>\n",
              "      <td>64</td>\n",
              "      <td>98</td>\n",
              "    </tr>\n",
              "    <tr>\n",
              "      <th>2</th>\n",
              "      <td>1001</td>\n",
              "      <td>1500</td>\n",
              "      <td>51</td>\n",
              "      <td>139</td>\n",
              "      <td>190</td>\n",
              "    </tr>\n",
              "    <tr>\n",
              "      <th>3</th>\n",
              "      <td>1501</td>\n",
              "      <td>2000</td>\n",
              "      <td>33</td>\n",
              "      <td>93</td>\n",
              "      <td>126</td>\n",
              "    </tr>\n",
              "    <tr>\n",
              "      <th>4</th>\n",
              "      <td>2001</td>\n",
              "      <td>2500</td>\n",
              "      <td>26</td>\n",
              "      <td>79</td>\n",
              "      <td>105</td>\n",
              "    </tr>\n",
              "    <tr>\n",
              "      <th>5</th>\n",
              "      <td>2501</td>\n",
              "      <td>5000</td>\n",
              "      <td>75</td>\n",
              "      <td>200</td>\n",
              "      <td>275</td>\n",
              "    </tr>\n",
              "    <tr>\n",
              "      <th>6</th>\n",
              "      <td>5001</td>\n",
              "      <td>7500</td>\n",
              "      <td>34</td>\n",
              "      <td>68</td>\n",
              "      <td>102</td>\n",
              "    </tr>\n",
              "    <tr>\n",
              "      <th>7</th>\n",
              "      <td>7501</td>\n",
              "      <td>10000</td>\n",
              "      <td>20</td>\n",
              "      <td>26</td>\n",
              "      <td>46</td>\n",
              "    </tr>\n",
              "    <tr>\n",
              "      <th>8</th>\n",
              "      <td>10001</td>\n",
              "      <td>15000</td>\n",
              "      <td>21</td>\n",
              "      <td>14</td>\n",
              "      <td>35</td>\n",
              "    </tr>\n",
              "    <tr>\n",
              "      <th>9</th>\n",
              "      <td>15001</td>\n",
              "      <td>20000</td>\n",
              "      <td>3</td>\n",
              "      <td>2</td>\n",
              "      <td>5</td>\n",
              "    </tr>\n",
              "  </tbody>\n",
              "</table>\n",
              "</div>"
            ],
            "text/plain": [
              "   intervalLeftSide  intervalRightSide  Credibility0  Credibility1  Total\n",
              "0                 0                500             3            15     18\n",
              "1               501               1000            34            64     98\n",
              "2              1001               1500            51           139    190\n",
              "3              1501               2000            33            93    126\n",
              "4              2001               2500            26            79    105\n",
              "5              2501               5000            75           200    275\n",
              "6              5001               7500            34            68    102\n",
              "7              7501              10000            20            26     46\n",
              "8             10001              15000            21            14     35\n",
              "9             15001              20000             3             2      5"
            ]
          },
          "metadata": {
            "tags": []
          },
          "execution_count": 26
        }
      ]
    },
    {
      "cell_type": "markdown",
      "metadata": {
        "id": "hj34nb0IXtfN",
        "colab_type": "text"
      },
      "source": [
        "# 5. Plot Creditworthiness plot for Credibility == 0 and also ==1"
      ]
    },
    {
      "cell_type": "code",
      "metadata": {
        "id": "CQh3IrS9XtfN",
        "colab_type": "code",
        "colab": {
          "base_uri": "https://localhost:8080/",
          "height": 313
        },
        "outputId": "15c56f6b-29cf-4d48-cfa7-b9c10ef28f2f"
      },
      "source": [
        "plt.plot(compareCreditsDF.Credibility0)\n",
        "plt.xlabel('Credit amount interval number')\n",
        "plt.ylabel('Probability')\n",
        "plt.title('Credit worthiness for Credibility = 0')"
      ],
      "execution_count": 28,
      "outputs": [
        {
          "output_type": "execute_result",
          "data": {
            "text/plain": [
              "Text(0.5, 1.0, 'Credit worthiness for Credibility = 0')"
            ]
          },
          "metadata": {
            "tags": []
          },
          "execution_count": 28
        },
        {
          "output_type": "display_data",
          "data": {
            "image/png": "[encoded data removed]",
            "text/plain": [
              "<Figure size 432x288 with 1 Axes>"
            ]
          },
          "metadata": {
            "tags": [],
            "needs_background": "light"
          }
        }
      ]
    },
    {
      "cell_type": "code",
      "metadata": {
        "id": "JwJncYFdjgfK",
        "colab_type": "code",
        "colab": {
          "base_uri": "https://localhost:8080/",
          "height": 313
        },
        "outputId": "7d3e052e-cfbd-4b56-da89-14496a4c5775"
      },
      "source": [
        "plt.plot(compareCreditsDF.Credibility1)\n",
        "plt.xlabel('Credit amount interval number')\n",
        "plt.ylabel('Probability')\n",
        "plt.title('Credit worthiness for Credibility = 1')"
      ],
      "execution_count": 29,
      "outputs": [
        {
          "output_type": "execute_result",
          "data": {
            "text/plain": [
              "Text(0.5, 1.0, 'Credit worthiness for Credibility = 1')"
            ]
          },
          "metadata": {
            "tags": []
          },
          "execution_count": 29
        },
        {
          "output_type": "display_data",
          "data": {
            "image/png": "[encoded data removed]",
            "text/plain": [
              "<Figure size 432x288 with 1 Axes>"
            ]
          },
          "metadata": {
            "tags": [],
            "needs_background": "light"
          }
        }
      ]
    },
    {
      "cell_type": "markdown",
      "metadata": {
        "id": "KSUYOmnJXtfQ",
        "colab_type": "text"
      },
      "source": [
        "# 6. Prepare input data for the model"
      ]
    },
    {
      "cell_type": "code",
      "metadata": {
        "id": "IJ4U4xlOXtfR",
        "colab_type": "code",
        "colab": {
          "base_uri": "https://localhost:8080/",
          "height": 243
        },
        "outputId": "b27c02f1-2536-4441-f686-fcc062d2462b"
      },
      "source": [
        "X = np.array(df.CreditAmount)\n",
        "Y = df.Creditability.astype('category')\n",
        "\n",
        "X\n",
        "Y"
      ],
      "execution_count": 31,
      "outputs": [
        {
          "output_type": "execute_result",
          "data": {
            "text/plain": [
              "0      1\n",
              "1      1\n",
              "2      1\n",
              "3      1\n",
              "4      1\n",
              "      ..\n",
              "995    0\n",
              "996    0\n",
              "997    0\n",
              "998    0\n",
              "999    0\n",
              "Name: Creditability, Length: 1000, dtype: category\n",
              "Categories (2, int64): [0, 1]"
            ]
          },
          "metadata": {
            "tags": []
          },
          "execution_count": 31
        }
      ]
    },
    {
      "cell_type": "markdown",
      "metadata": {
        "id": "A_cttW7jXtfe",
        "colab_type": "text"
      },
      "source": [
        "# 7. Fit logistic regression model"
      ]
    },
    {
      "cell_type": "code",
      "metadata": {
        "id": "9UrmDVHPXtff",
        "colab_type": "code",
        "colab": {
          "base_uri": "https://localhost:8080/",
          "height": 355
        },
        "outputId": "0a2e9da7-69ec-4cd1-bdb9-a79678a6650b"
      },
      "source": [
        "from sklearn.model_selection import train_test_split\n",
        "from sklearn import linear_model\n",
        "import statsmodels.api as sm\n",
        "\n",
        "X_train, X_test, y_train, y_test = train_test_split( X, Y, test_size = 0.3, random_state = 42 )\n",
        "logit = sm.Logit(y_train, sm.add_constant( X_train ) )\n",
        "lg = logit.fit()\n",
        "lg.summary2()"
      ],
      "execution_count": 32,
      "outputs": [
        {
          "output_type": "stream",
          "text": [
            "/usr/local/lib/python3.6/dist-packages/statsmodels/tools/_testing.py:19: FutureWarning: pandas.util.testing is deprecated. Use the functions in the public API at pandas.testing instead.\n",
            "  import pandas.util.testing as tm\n"
          ],
          "name": "stderr"
        },
        {
          "output_type": "stream",
          "text": [
            "Optimization terminated successfully.\n",
            "         Current function value: 0.598243\n",
            "         Iterations 5\n"
          ],
          "name": "stdout"
        },
        {
          "output_type": "execute_result",
          "data": {
            "text/html": [
              "<table class=\"simpletable\">\n",
              "<tr>\n",
              "        <td>Model:</td>              <td>Logit</td>      <td>Pseudo R-squared:</td>    <td>0.017</td>  \n",
              "</tr>\n",
              "<tr>\n",
              "  <td>Dependent Variable:</td>   <td>Creditability</td>        <td>AIC:</td>         <td>841.5402</td> \n",
              "</tr>\n",
              "<tr>\n",
              "         <td>Date:</td>        <td>2020-05-03 12:44</td>       <td>BIC:</td>         <td>850.6424</td> \n",
              "</tr>\n",
              "<tr>\n",
              "   <td>No. Observations:</td>         <td>700</td>        <td>Log-Likelihood:</td>    <td>-418.77</td> \n",
              "</tr>\n",
              "<tr>\n",
              "       <td>Df Model:</td>              <td>1</td>            <td>LL-Null:</td>        <td>-425.90</td> \n",
              "</tr>\n",
              "<tr>\n",
              "     <td>Df Residuals:</td>           <td>698</td>         <td>LLR p-value:</td>    <td>0.00015977</td>\n",
              "</tr>\n",
              "<tr>\n",
              "      <td>Converged:</td>           <td>1.0000</td>           <td>Scale:</td>         <td>1.0000</td>  \n",
              "</tr>\n",
              "<tr>\n",
              "    <td>No. Iterations:</td>        <td>5.0000</td>              <td></td>               <td></td>     \n",
              "</tr>\n",
              "</table>\n",
              "<table class=\"simpletable\">\n",
              "<tr>\n",
              "    <td></td>     <th>Coef.</th>  <th>Std.Err.</th>    <th>z</th>     <th>P>|z|</th> <th>[0.025</th>  <th>0.975]</th> \n",
              "</tr>\n",
              "<tr>\n",
              "  <th>const</th> <td>1.2287</td>   <td>0.1307</td>  <td>9.4037</td>  <td>0.0000</td> <td>0.9726</td>  <td>1.4848</td> \n",
              "</tr>\n",
              "<tr>\n",
              "  <th>x1</th>    <td>-0.0001</td>  <td>0.0000</td>  <td>-3.7764</td> <td>0.0002</td> <td>-0.0002</td> <td>-0.0001</td>\n",
              "</tr>\n",
              "</table>"
            ],
            "text/plain": [
              "<class 'statsmodels.iolib.summary2.Summary'>\n",
              "\"\"\"\n",
              "                         Results: Logit\n",
              "=================================================================\n",
              "Model:              Logit            Pseudo R-squared: 0.017     \n",
              "Dependent Variable: Creditability    AIC:              841.5402  \n",
              "Date:               2020-05-03 12:44 BIC:              850.6424  \n",
              "No. Observations:   700              Log-Likelihood:   -418.77   \n",
              "Df Model:           1                LL-Null:          -425.90   \n",
              "Df Residuals:       698              LLR p-value:      0.00015977\n",
              "Converged:          1.0000           Scale:            1.0000    \n",
              "No. Iterations:     5.0000                                       \n",
              "-------------------------------------------------------------------\n",
              "           Coef.    Std.Err.      z      P>|z|     [0.025    0.975]\n",
              "-------------------------------------------------------------------\n",
              "const      1.2287     0.1307    9.4037   0.0000    0.9726    1.4848\n",
              "x1        -0.0001     0.0000   -3.7764   0.0002   -0.0002   -0.0001\n",
              "=================================================================\n",
              "\n",
              "\"\"\""
            ]
          },
          "metadata": {
            "tags": []
          },
          "execution_count": 32
        }
      ]
    },
    {
      "cell_type": "markdown",
      "metadata": {
        "id": "MPeA7ma-Xtfl",
        "colab_type": "text"
      },
      "source": [
        "# 8. Test accuracy calculation"
      ]
    },
    {
      "cell_type": "code",
      "metadata": {
        "id": "kV5btLsJXtfm",
        "colab_type": "code",
        "colab": {
          "base_uri": "https://localhost:8080/",
          "height": 35
        },
        "outputId": "33be4320-10e7-4eb5-8286-2e92ebc91f6c"
      },
      "source": [
        "def get_predictions(y_Test, model):\n",
        "  y_predictedDF = pd.DataFrame({'actual': y_Test,\n",
        "                                'predicted_prob': lg.predict(sm.add_constant(X_test))})\n",
        "  return y_predictedDF\n",
        "X_test[0:5]"
      ],
      "execution_count": 34,
      "outputs": [
        {
          "output_type": "execute_result",
          "data": {
            "text/plain": [
              "array([10974,  1149,  1736,  1414,  2978])"
            ]
          },
          "metadata": {
            "tags": []
          },
          "execution_count": 34
        }
      ]
    },
    {
      "cell_type": "code",
      "metadata": {
        "id": "vJUVjlbClJ1b",
        "colab_type": "code",
        "colab": {
          "base_uri": "https://localhost:8080/",
          "height": 202
        },
        "outputId": "442716db-6c6a-4532-f9c9-ef6a4bf3153e"
      },
      "source": [
        "y_pred_df = get_predictions(X_test, lg )\n",
        "y_pred_df['originalCredibility'] = np.array(y_test)\n",
        "y_pred_df[0:5]"
      ],
      "execution_count": 35,
      "outputs": [
        {
          "output_type": "execute_result",
          "data": {
            "text/html": [
              "<div>\n",
              "<style scoped>\n",
              "    .dataframe tbody tr th:only-of-type {\n",
              "        vertical-align: middle;\n",
              "    }\n",
              "\n",
              "    .dataframe tbody tr th {\n",
              "        vertical-align: top;\n",
              "    }\n",
              "\n",
              "    .dataframe thead th {\n",
              "        text-align: right;\n",
              "    }\n",
              "</style>\n",
              "<table border=\"1\" class=\"dataframe\">\n",
              "  <thead>\n",
              "    <tr style=\"text-align: right;\">\n",
              "      <th></th>\n",
              "      <th>actual</th>\n",
              "      <th>predicted_prob</th>\n",
              "      <th>originalCredibility</th>\n",
              "    </tr>\n",
              "  </thead>\n",
              "  <tbody>\n",
              "    <tr>\n",
              "      <th>0</th>\n",
              "      <td>10974</td>\n",
              "      <td>0.515795</td>\n",
              "      <td>0</td>\n",
              "    </tr>\n",
              "    <tr>\n",
              "      <th>1</th>\n",
              "      <td>1149</td>\n",
              "      <td>0.751504</td>\n",
              "      <td>1</td>\n",
              "    </tr>\n",
              "    <tr>\n",
              "      <th>2</th>\n",
              "      <td>1736</td>\n",
              "      <td>0.739680</td>\n",
              "      <td>1</td>\n",
              "    </tr>\n",
              "    <tr>\n",
              "      <th>3</th>\n",
              "      <td>1414</td>\n",
              "      <td>0.746211</td>\n",
              "      <td>1</td>\n",
              "    </tr>\n",
              "    <tr>\n",
              "      <th>4</th>\n",
              "      <td>2978</td>\n",
              "      <td>0.713492</td>\n",
              "      <td>1</td>\n",
              "    </tr>\n",
              "  </tbody>\n",
              "</table>\n",
              "</div>"
            ],
            "text/plain": [
              "   actual  predicted_prob  originalCredibility\n",
              "0   10974        0.515795                    0\n",
              "1    1149        0.751504                    1\n",
              "2    1736        0.739680                    1\n",
              "3    1414        0.746211                    1\n",
              "4    2978        0.713492                    1"
            ]
          },
          "metadata": {
            "tags": []
          },
          "execution_count": 35
        }
      ]
    },
    {
      "cell_type": "code",
      "metadata": {
        "id": "oHRyD0oIlSnG",
        "colab_type": "code",
        "colab": {
          "base_uri": "https://localhost:8080/",
          "height": 355
        },
        "outputId": "309a6712-dc5e-47f1-c3cd-a6f940764cc4"
      },
      "source": [
        "y_pred_df['predicted'] = y_pred_df.predicted_prob.map( lambda x: 1 if x > 0.6 else 0)\n",
        "y_pred_df[0:10]"
      ],
      "execution_count": 36,
      "outputs": [
        {
          "output_type": "execute_result",
          "data": {
            "text/html": [
              "<div>\n",
              "<style scoped>\n",
              "    .dataframe tbody tr th:only-of-type {\n",
              "        vertical-align: middle;\n",
              "    }\n",
              "\n",
              "    .dataframe tbody tr th {\n",
              "        vertical-align: top;\n",
              "    }\n",
              "\n",
              "    .dataframe thead th {\n",
              "        text-align: right;\n",
              "    }\n",
              "</style>\n",
              "<table border=\"1\" class=\"dataframe\">\n",
              "  <thead>\n",
              "    <tr style=\"text-align: right;\">\n",
              "      <th></th>\n",
              "      <th>actual</th>\n",
              "      <th>predicted_prob</th>\n",
              "      <th>originalCredibility</th>\n",
              "      <th>predicted</th>\n",
              "    </tr>\n",
              "  </thead>\n",
              "  <tbody>\n",
              "    <tr>\n",
              "      <th>0</th>\n",
              "      <td>10974</td>\n",
              "      <td>0.515795</td>\n",
              "      <td>0</td>\n",
              "      <td>0</td>\n",
              "    </tr>\n",
              "    <tr>\n",
              "      <th>1</th>\n",
              "      <td>1149</td>\n",
              "      <td>0.751504</td>\n",
              "      <td>1</td>\n",
              "      <td>1</td>\n",
              "    </tr>\n",
              "    <tr>\n",
              "      <th>2</th>\n",
              "      <td>1736</td>\n",
              "      <td>0.739680</td>\n",
              "      <td>1</td>\n",
              "      <td>1</td>\n",
              "    </tr>\n",
              "    <tr>\n",
              "      <th>3</th>\n",
              "      <td>1414</td>\n",
              "      <td>0.746211</td>\n",
              "      <td>1</td>\n",
              "      <td>1</td>\n",
              "    </tr>\n",
              "    <tr>\n",
              "      <th>4</th>\n",
              "      <td>2978</td>\n",
              "      <td>0.713492</td>\n",
              "      <td>1</td>\n",
              "      <td>1</td>\n",
              "    </tr>\n",
              "    <tr>\n",
              "      <th>5</th>\n",
              "      <td>2728</td>\n",
              "      <td>0.718888</td>\n",
              "      <td>1</td>\n",
              "      <td>1</td>\n",
              "    </tr>\n",
              "    <tr>\n",
              "      <th>6</th>\n",
              "      <td>2859</td>\n",
              "      <td>0.716068</td>\n",
              "      <td>1</td>\n",
              "      <td>1</td>\n",
              "    </tr>\n",
              "    <tr>\n",
              "      <th>7</th>\n",
              "      <td>3832</td>\n",
              "      <td>0.694598</td>\n",
              "      <td>1</td>\n",
              "      <td>1</td>\n",
              "    </tr>\n",
              "    <tr>\n",
              "      <th>8</th>\n",
              "      <td>727</td>\n",
              "      <td>0.759779</td>\n",
              "      <td>0</td>\n",
              "      <td>1</td>\n",
              "    </tr>\n",
              "    <tr>\n",
              "      <th>9</th>\n",
              "      <td>1318</td>\n",
              "      <td>0.748137</td>\n",
              "      <td>1</td>\n",
              "      <td>1</td>\n",
              "    </tr>\n",
              "  </tbody>\n",
              "</table>\n",
              "</div>"
            ],
            "text/plain": [
              "   actual  predicted_prob  originalCredibility  predicted\n",
              "0   10974        0.515795                    0          0\n",
              "1    1149        0.751504                    1          1\n",
              "2    1736        0.739680                    1          1\n",
              "3    1414        0.746211                    1          1\n",
              "4    2978        0.713492                    1          1\n",
              "5    2728        0.718888                    1          1\n",
              "6    2859        0.716068                    1          1\n",
              "7    3832        0.694598                    1          1\n",
              "8     727        0.759779                    0          1\n",
              "9    1318        0.748137                    1          1"
            ]
          },
          "metadata": {
            "tags": []
          },
          "execution_count": 36
        }
      ]
    },
    {
      "cell_type": "markdown",
      "metadata": {
        "id": "D2YUDwSyXtfv",
        "colab_type": "text"
      },
      "source": [
        "# 9. Build a confusion matrix"
      ]
    },
    {
      "cell_type": "code",
      "metadata": {
        "id": "nwRpu5oUXtfw",
        "colab_type": "code",
        "colab": {}
      },
      "source": [
        "import seaborn as sn\n",
        "%matplotlib inline\n",
        "from sklearn import metrics\n",
        "from sklearn import datasets"
      ],
      "execution_count": 0,
      "outputs": []
    },
    {
      "cell_type": "code",
      "metadata": {
        "id": "RaFPMB3Almf1",
        "colab_type": "code",
        "colab": {}
      },
      "source": [
        "def draw_cm( actual, predicted ):\n",
        "    cm = metrics.confusion_matrix( actual, predicted, [1,0] )\n",
        "    sn.heatmap(cm, annot=True,  fmt='.2f', xticklabels = [\"Default\", \"No Default\"] , yticklabels = [\"Default\", \"No Default\"] )\n",
        "    plt.ylabel('True label')\n",
        "    plt.xlabel('Predicted label')\n",
        "    plt.show()"
      ],
      "execution_count": 0,
      "outputs": []
    },
    {
      "cell_type": "code",
      "metadata": {
        "id": "UFYOXxHQlrEQ",
        "colab_type": "code",
        "colab": {
          "base_uri": "https://localhost:8080/",
          "height": 279
        },
        "outputId": "99c13f32-5c6d-44e6-ae0a-3b93f6b4f4af"
      },
      "source": [
        "draw_cm( y_pred_df.originalCredibility, y_pred_df.predicted )"
      ],
      "execution_count": 41,
      "outputs": [
        {
          "output_type": "display_data",
          "data": {
            "image/png": "[encoded data removed]",
            "text/plain": [
              "<Figure size 432x288 with 2 Axes>"
            ]
          },
          "metadata": {
            "tags": [],
            "needs_background": "light"
          }
        }
      ]
    },
    {
      "cell_type": "code",
      "metadata": {
        "id": "FR_rOH6ol7mq",
        "colab_type": "code",
        "colab": {
          "base_uri": "https://localhost:8080/",
          "height": 35
        },
        "outputId": "2e4f8e8f-0160-4dd2-839f-ed58a2567ae9"
      },
      "source": [
        "print( 'Total Accuracy : ',np.round( metrics.accuracy_score( y_test, y_pred_df.predicted ), 2 ) )"
      ],
      "execution_count": 42,
      "outputs": [
        {
          "output_type": "stream",
          "text": [
            "Total Accuracy :  0.7\n"
          ],
          "name": "stdout"
        }
      ]
    },
    {
      "cell_type": "markdown",
      "metadata": {
        "id": "jQIlKDnVXtf1",
        "colab_type": "text"
      },
      "source": [
        "# 10.  Predicted Probability distribution Plots for Defaults and Non Defaults"
      ]
    },
    {
      "cell_type": "code",
      "metadata": {
        "id": "XGiJ54sGXtf2",
        "colab_type": "code",
        "colab": {
          "base_uri": "https://localhost:8080/",
          "height": 297
        },
        "outputId": "d8cf252d-6efb-47f0-de75-ebbe21bfdafd"
      },
      "source": [
        "sn.distplot( y_pred_df[y_pred_df.originalCredibility == 1][\"predicted_prob\"], kde=False, color = 'b' )\n",
        "sn.distplot( y_pred_df[y_pred_df.originalCredibility == 0][\"predicted_prob\"], kde=False, color = 'g' )"
      ],
      "execution_count": 43,
      "outputs": [
        {
          "output_type": "execute_result",
          "data": {
            "text/plain": [
              "<matplotlib.axes._subplots.AxesSubplot at 0x7f8a0905fb70>"
            ]
          },
          "metadata": {
            "tags": []
          },
          "execution_count": 43
        },
        {
          "output_type": "display_data",
          "data": {
            "image/png": "[encoded data removed]",
            "text/plain": [
              "<Figure size 432x288 with 1 Axes>"
            ]
          },
          "metadata": {
            "tags": [],
            "needs_background": "light"
          }
        }
      ]
    }
  ]
}
