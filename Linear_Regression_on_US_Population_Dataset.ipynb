{
  "nbformat": 4,
  "nbformat_minor": 0,
  "metadata": {
    "kernelspec": {
      "display_name": "Python 3",
      "language": "python",
      "name": "python3"
    },
    "language_info": {
      "codemirror_mode": {
        "name": "ipython",
        "version": 3
      },
      "file_extension": ".py",
      "mimetype": "text/x-python",
      "name": "python",
      "nbconvert_exporter": "python",
      "pygments_lexer": "ipython3",
      "version": "3.7.3"
    },
    "colab": {
      "name": "Linear Regression on US Population Dataset.ipynb",
      "provenance": [],
      "include_colab_link": true
    }
  },
  "cells": [
    {
      "cell_type": "markdown",
      "metadata": {
        "id": "view-in-github",
        "colab_type": "text"
      },
      "source": [
        "<a href=\"https://colab.research.google.com/github/preetilolla/MachineLearning-LinearRegression-USPopulation/blob/master/Linear_Regression_on_US_Population_Dataset.ipynb\" target=\"_parent\"><img src=\"https://colab.research.google.com/assets/colab-badge.svg\" alt=\"Open In Colab\"/></a>"
      ]
    },
    {
      "cell_type": "markdown",
      "metadata": {
        "id": "MIckEB0brwXO",
        "colab_type": "text"
      },
      "source": [
        "# Simple Linear Regression"
      ]
    },
    {
      "cell_type": "markdown",
      "metadata": {
        "id": "i1xVQTGarwXQ",
        "colab_type": "text"
      },
      "source": [
        "# Dataset"
      ]
    },
    {
      "cell_type": "markdown",
      "metadata": {
        "id": "S1Cz0S1jrwXR",
        "colab_type": "text"
      },
      "source": [
        "Population of U.S. Cities"
      ]
    },
    {
      "cell_type": "markdown",
      "metadata": {
        "id": "g35K7diJrwXS",
        "colab_type": "text"
      },
      "source": [
        "# Description"
      ]
    },
    {
      "cell_type": "markdown",
      "metadata": {
        "id": "7A_o7_6prwXT",
        "colab_type": "text"
      },
      "source": [
        "The bigcity data frame has 49 rows and 2 columns.\n",
        "The measurements are the population (in 1000's) of 49 U.S. cities in 1920 and 1930. The 49 cities are a random sample taken\n",
        "from the 196 largest cities in 1920."
      ]
    },
    {
      "cell_type": "markdown",
      "metadata": {
        "id": "pJq5WN4FrwXU",
        "colab_type": "text"
      },
      "source": [
        "# Format"
      ]
    },
    {
      "cell_type": "markdown",
      "metadata": {
        "id": "7gNIAqdTrwXV",
        "colab_type": "text"
      },
      "source": [
        "This data frame contains the following columns:\n",
        "\n",
        "u The 1920 population.\n",
        "\n",
        "x The 1930 population.\n",
        "\n",
        "Source:\n",
        "\n",
        "The data were obtained from\n",
        "\n",
        "Cochran, W.G. (1977) Sampling Techniques. Third edition. John Wiley\n",
        "\n",
        "References:\n",
        "\n",
        "Davison, A.C. and Hinkley, D.V. (1997) Bootstrap Methods and Their Application. Cambridge University Press"
      ]
    },
    {
      "cell_type": "markdown",
      "metadata": {
        "id": "Uh5hYIthrwXW",
        "colab_type": "text"
      },
      "source": [
        "# 1. Read the dataset given in file named 'bigcity.csv'."
      ]
    },
    {
      "cell_type": "code",
      "metadata": {
        "id": "yiuwr0qT4KZl",
        "colab_type": "code",
        "colab": {
          "base_uri": "https://localhost:8080/",
          "height": 72
        },
        "outputId": "4620c569-600d-43e1-932c-bbea00ce7e1c"
      },
      "source": [
        "import numpy as np\n",
        "from sklearn.linear_model import LinearRegression\n",
        "import pandas as pd\n",
        "import matplotlib.pyplot as plt\n",
        "%matplotlib inline \n",
        "import seaborn as sns\n",
        "from sklearn.model_selection import train_test_split"
      ],
      "execution_count": 1,
      "outputs": [
        {
          "output_type": "stream",
          "text": [
            "/usr/local/lib/python3.6/dist-packages/statsmodels/tools/_testing.py:19: FutureWarning: pandas.util.testing is deprecated. Use the functions in the public API at pandas.testing instead.\n",
            "  import pandas.util.testing as tm\n"
          ],
          "name": "stderr"
        }
      ]
    },
    {
      "cell_type": "code",
      "metadata": {
        "id": "HSiyLbf-rwXX",
        "colab_type": "code",
        "colab": {}
      },
      "source": [
        "url = 'https://raw.githubusercontent.com/preetilolla/MachineLearning-LinearRegression-USPopulation/master/bigcity.csv'\n",
        "cData = pd.read_csv(url)\n"
      ],
      "execution_count": 0,
      "outputs": []
    },
    {
      "cell_type": "markdown",
      "metadata": {
        "id": "ZHrJAwx2rwXe",
        "colab_type": "text"
      },
      "source": [
        "# 2. Explore the shape of dataset (0.5 points)\n",
        "Find the number of rows in given dataset and separate the input and target variables into X and Y. Hint: You can shape function \n",
        "to get the size of the dataframe"
      ]
    },
    {
      "cell_type": "code",
      "metadata": {
        "id": "3VpvqN3orwXf",
        "colab_type": "code",
        "colab": {
          "base_uri": "https://localhost:8080/",
          "height": 52
        },
        "outputId": "50485f9f-202e-4dc8-f376-cc6e8b03efe2"
      },
      "source": [
        "cData.shape\n",
        "X = cData.shape[0]\n",
        "Y = cData.shape[1]\n",
        "print(X)\n",
        "print(Y)\n",
        "\n",
        "X = cData.u  \n",
        "Y = cData.x \n",
        "X = X.values.reshape(len(X),1) \n",
        "Y = Y.values.reshape(len(Y),1)"
      ],
      "execution_count": 43,
      "outputs": [
        {
          "output_type": "stream",
          "text": [
            "49\n",
            "2\n"
          ],
          "name": "stdout"
        }
      ]
    },
    {
      "cell_type": "markdown",
      "metadata": {
        "id": "_g5P1-rdrwXj",
        "colab_type": "text"
      },
      "source": [
        "# 3. Check the dataset for any missing values and also print out the correlation matrix (0.5 points)\n",
        "You can use .isna() and .corr() functions to check NA's and correlation in the dataframe respectively"
      ]
    },
    {
      "cell_type": "code",
      "metadata": {
        "id": "DL3ABlx7-SuE",
        "colab_type": "code",
        "colab": {}
      },
      "source": [
        "cData.drop(cData.columns[[0]],axis=1, inplace=True)\n",
        "cData.head()"
      ],
      "execution_count": 0,
      "outputs": []
    },
    {
      "cell_type": "code",
      "metadata": {
        "id": "PE23HIvWrwXk",
        "colab_type": "code",
        "colab": {
          "base_uri": "https://localhost:8080/",
          "height": 69
        },
        "outputId": "4f747b09-304c-4973-b71c-ca4999d445e8"
      },
      "source": [
        "\n",
        "cData.isna().sum()\n"
      ],
      "execution_count": 39,
      "outputs": [
        {
          "output_type": "execute_result",
          "data": {
            "text/plain": [
              "u    0\n",
              "x    0\n",
              "dtype: int64"
            ]
          },
          "metadata": {
            "tags": []
          },
          "execution_count": 39
        }
      ]
    },
    {
      "cell_type": "code",
      "metadata": {
        "id": "c_8rqhCqEBN8",
        "colab_type": "code",
        "colab": {}
      },
      "source": [
        "cData.corr()"
      ],
      "execution_count": 0,
      "outputs": []
    },
    {
      "cell_type": "markdown",
      "metadata": {
        "id": "cZJ14n5mrwXn",
        "colab_type": "text"
      },
      "source": [
        "[link text](https://)The high correlation between u and x indicates that the variable u is a good predictor of variable x"
      ]
    },
    {
      "cell_type": "markdown",
      "metadata": {
        "id": "8NPZ9AAdrwXn",
        "colab_type": "text"
      },
      "source": [
        "# 4. Split data into train, test sets (0.5 points)\n",
        "Divide the data into training and test sets with 80-20 split using scikit-learn. Print the shapes of training and test feature \n",
        "sets.*\n",
        "Check: train_test_split function"
      ]
    },
    {
      "cell_type": "code",
      "metadata": {
        "id": "Oub6YvlAC2aj",
        "colab_type": "code",
        "colab": {
          "base_uri": "https://localhost:8080/",
          "height": 35
        },
        "outputId": "865908cf-39eb-403e-cd13-6b47f1033f87"
      },
      "source": [
        "X_train, X_test, y_train, y_test = train_test_split(X, Y, test_size=0.20, random_state=1)\n",
        "len(X_train)"
      ],
      "execution_count": 44,
      "outputs": [
        {
          "output_type": "execute_result",
          "data": {
            "text/plain": [
              "39"
            ]
          },
          "metadata": {
            "tags": []
          },
          "execution_count": 44
        }
      ]
    },
    {
      "cell_type": "code",
      "metadata": {
        "id": "zPKhhQ2grwXo",
        "colab_type": "code",
        "colab": {
          "base_uri": "https://localhost:8080/",
          "height": 35
        },
        "outputId": "60bec514-93a5-47aa-f2ea-9be2a7fad253"
      },
      "source": [
        "df = pd.DataFrame(np.random.randn(100, 2))\n",
        "msk = np.random.rand(len(df)) < 0.8\n",
        "train = df[msk]\n",
        "test = df[~msk]\n",
        "len(train)\n",
        "len(test)"
      ],
      "execution_count": 34,
      "outputs": [
        {
          "output_type": "execute_result",
          "data": {
            "text/plain": [
              "21"
            ]
          },
          "metadata": {
            "tags": []
          },
          "execution_count": 34
        }
      ]
    },
    {
      "cell_type": "markdown",
      "metadata": {
        "id": "zacPTzh3rwXq",
        "colab_type": "text"
      },
      "source": [
        "# 5. Find coefficients & intercept (0.5 points)\n",
        "Estimate the coefficients b0 and b1 using scikit-learn.\n",
        "Check: coef_ and intercept_ functions can help you get coefficients & intercept"
      ]
    },
    {
      "cell_type": "code",
      "metadata": {
        "id": "rPXgGYglrwXq",
        "colab_type": "code",
        "colab": {
          "base_uri": "https://localhost:8080/",
          "height": 35
        },
        "outputId": "891099b3-e331-4eac-8cc3-2e52d008eece"
      },
      "source": [
        "regression_model = LinearRegression()\n",
        "regression_model.fit(X_train, y_train)\n",
        "\n",
        "b1 = regression_model.coef_\n",
        "b0 = regression_model.intercept_\n",
        "print(\"b1 is: {} and b0 is: {}\".format(b1, b0))"
      ],
      "execution_count": 45,
      "outputs": [
        {
          "output_type": "stream",
          "text": [
            "b1 is: [[1.15945123]] and b0 is: [9.71845532]\n"
          ],
          "name": "stdout"
        }
      ]
    },
    {
      "cell_type": "markdown",
      "metadata": {
        "id": "eFCzCEv8rwXu",
        "colab_type": "text"
      },
      "source": [
        "# 6.  Linear Relationship between feature and target (0.5 points)\n",
        "Plot the line with b1 and b0 as slope and y-intercept."
      ]
    },
    {
      "cell_type": "code",
      "metadata": {
        "id": "hdBEmWnSrwXu",
        "colab_type": "code",
        "colab": {
          "base_uri": "https://localhost:8080/",
          "height": 283
        },
        "outputId": "a61502c7-7ba3-426f-9410-0b25b2868e75"
      },
      "source": [
        "plt.plot(X_train, b1 * X_train + b0)"
      ],
      "execution_count": 46,
      "outputs": [
        {
          "output_type": "execute_result",
          "data": {
            "text/plain": [
              "[<matplotlib.lines.Line2D at 0x7fcc62bcb5c0>]"
            ]
          },
          "metadata": {
            "tags": []
          },
          "execution_count": 46
        },
        {
          "output_type": "display_data",
          "data": {
            "image/png": "[encoded data removed]",
            "text/plain": [
              "<Figure size 432x288 with 1 Axes>"
            ]
          },
          "metadata": {
            "tags": [],
            "needs_background": "light"
          }
        }
      ]
    },
    {
      "cell_type": "markdown",
      "metadata": {
        "id": "uOq82Cs5rwXw",
        "colab_type": "text"
      },
      "source": [
        "# 7. Evaluation of model with scikit-learn (0.5 points)\n",
        "Validate the model with Root Mean Squares error and R^2 score using scikit-learn. RMSE and R2 for test data and prediction\n",
        "\n",
        "Hint: You can import mean_squared_error function & r2 (R square) from sklearn.metrics. Performing root operation over mean \n",
        "square error over mean square error gives you root mean square error"
      ]
    },
    {
      "cell_type": "code",
      "metadata": {
        "id": "OcrKjbrKrwXx",
        "colab_type": "code",
        "colab": {
          "base_uri": "https://localhost:8080/",
          "height": 35
        },
        "outputId": "a8f9e342-60e0-4284-b822-33060e143afb"
      },
      "source": [
        "y_pred = regression_model.predict(X_test)\n",
        "from sklearn.metrics import mean_squared_error, r2_score\n",
        "from math import sqrt\n",
        "mse = mean_squared_error(y_test, y_pred)\n",
        "rms = sqrt(mse)\n",
        "r2Score = r2_score(y_test, y_pred)\n",
        "print(\"The Root Mean Sq Error is {} and R^2 error is {}\".format(rms,r2Score))"
      ],
      "execution_count": 47,
      "outputs": [
        {
          "output_type": "stream",
          "text": [
            "The Root Mean Sq Error is 23.38523519024912 and R^2 error is 0.9181922560396981\n"
          ],
          "name": "stdout"
        }
      ]
    },
    {
      "cell_type": "markdown",
      "metadata": {
        "id": "KXkdJzQ3rwXz",
        "colab_type": "text"
      },
      "source": [
        "# 8. Calculate the accuracy of the model for both training and test data set (0.5 points)\n",
        "\n",
        "Hint: .score() function"
      ]
    },
    {
      "cell_type": "code",
      "metadata": {
        "id": "L3LipO2PrwXz",
        "colab_type": "code",
        "colab": {
          "base_uri": "https://localhost:8080/",
          "height": 35
        },
        "outputId": "3b08bd67-c648-4a83-be3a-d5c5e65dbfb9"
      },
      "source": [
        "regression_model.score(X_train, y_train)"
      ],
      "execution_count": 48,
      "outputs": [
        {
          "output_type": "execute_result",
          "data": {
            "text/plain": [
              "0.9682175540860046"
            ]
          },
          "metadata": {
            "tags": []
          },
          "execution_count": 48
        }
      ]
    },
    {
      "cell_type": "code",
      "metadata": {
        "id": "J6rXwVmIrwX2",
        "colab_type": "code",
        "colab": {
          "base_uri": "https://localhost:8080/",
          "height": 35
        },
        "outputId": "6495cdc3-7c92-43f2-af7c-42c985de1ec1"
      },
      "source": [
        "regression_model.score(X_test,y_test)"
      ],
      "execution_count": 49,
      "outputs": [
        {
          "output_type": "execute_result",
          "data": {
            "text/plain": [
              "0.9181922560396981"
            ]
          },
          "metadata": {
            "tags": []
          },
          "execution_count": 49
        }
      ]
    }
  ]
}